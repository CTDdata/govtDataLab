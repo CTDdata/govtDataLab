{
 "cells": [
  {
   "cell_type": "code",
   "execution_count": null,
   "metadata": {},
   "outputs": [],
   "source": [
    "#data source: https://www.census.gov/data/datasets/time-series/demo/cps/cps-asec.2021.html\n",
    "#helpful: https://towardsdatascience.com/top-one-liners-in-pandas-for-effective-exploratory-data-analysis-a739b1c9de5"
   ]
  },
  {
   "cell_type": "code",
   "execution_count": 6,
   "metadata": {},
   "outputs": [],
   "source": [
    "import pandas as pd"
   ]
  },
  {
   "cell_type": "code",
   "execution_count": 7,
   "metadata": {},
   "outputs": [
    {
     "name": "stdout",
     "output_type": "stream",
     "text": [
      "                 PERIDNUM  PH_SEQ  P_SEQ  A_LINENO  PF_SEQ  PHF_SEQ  OED_TYP1  \\\n",
      "0  8238946011902051101101       1      1         1       1        1         0   \n",
      "1  8238946011902051101102       1      2         2       1        1         0   \n",
      "2  8238946011902051101103       1      3         3       1        1         0   \n",
      "3  6092052593105071201101       2      1         1       1        1         0   \n",
      "4  6092052593105071201102       2      2         2       1        1         0   \n",
      "\n",
      "   OED_TYP2  OED_TYP3  PERRP  ...  I_DISVL1  I_DISVL2  I_SURVL1  I_SURVL2  \\\n",
      "0         0         0     40  ...         0         0         0         0   \n",
      "1         0         0     42  ...         0         0         0         0   \n",
      "2         0         0     50  ...         0         0         0         0   \n",
      "3         0         0     40  ...         0         0         0         0   \n",
      "4         0         0     42  ...         0         0         0         0   \n",
      "\n",
      "   MIG_CBST  MIG_DSCP  DEP_STAT  FILEDATE  FILESTAT  YYYYMM  \n",
      "0         0         0         0     81921         1  202103  \n",
      "1         0         0         0     81921         1  202103  \n",
      "2         0         0         0     81921         5  202103  \n",
      "3         0         0         0     81921         3  202103  \n",
      "4         0         0         0     81921         3  202103  \n",
      "\n",
      "[5 rows x 830 columns]\n"
     ]
    }
   ],
   "source": [
    "#read data from CSV\n",
    "csv_df = pd.read_csv('asecpub21csv/pppub21.csv')\n",
    "print(csv_df.head())"
   ]
  },
  {
   "cell_type": "code",
   "execution_count": 8,
   "metadata": {},
   "outputs": [
    {
     "name": "stdout",
     "output_type": "stream",
     "text": [
      "                    PERIDNUM  PH_SEQ  P_SEQ  A_LINENO  PF_SEQ  PHF_SEQ  \\\n",
      "0  b'8238946011902051101101'     1.0    1.0       1.0     1.0      1.0   \n",
      "1  b'8238946011902051101102'     1.0    2.0       2.0     1.0      1.0   \n",
      "2  b'8238946011902051101103'     1.0    3.0       3.0     1.0      1.0   \n",
      "3  b'6092052593105071201101'     2.0    1.0       1.0     1.0      1.0   \n",
      "4  b'6092052593105071201102'     2.0    2.0       2.0     1.0      1.0   \n",
      "\n",
      "   OED_TYP1  OED_TYP2  OED_TYP3  PERRP  ...  I_DISVL1  I_DISVL2  I_SURVL1  \\\n",
      "0       0.0       0.0       0.0   40.0  ...       0.0       0.0       0.0   \n",
      "1       0.0       0.0       0.0   42.0  ...       0.0       0.0       0.0   \n",
      "2       0.0       0.0       0.0   50.0  ...       0.0       0.0       0.0   \n",
      "3       0.0       0.0       0.0   40.0  ...       0.0       0.0       0.0   \n",
      "4       0.0       0.0       0.0   42.0  ...       0.0       0.0       0.0   \n",
      "\n",
      "   I_SURVL2  MIG_CBST  MIG_DSCP  DEP_STAT  FILEDATE  FILESTAT     YYYYMM  \n",
      "0       0.0       0.0       0.0       0.0   81921.0       1.0  b'202103'  \n",
      "1       0.0       0.0       0.0       0.0   81921.0       1.0  b'202103'  \n",
      "2       0.0       0.0       0.0       0.0   81921.0       5.0  b'202103'  \n",
      "3       0.0       0.0       0.0       0.0   81921.0       3.0  b'202103'  \n",
      "4       0.0       0.0       0.0       0.0   81921.0       3.0  b'202103'  \n",
      "\n",
      "[5 rows x 830 columns]\n"
     ]
    }
   ],
   "source": [
    "#read data from SAS\n",
    "sas_df = pd.read_sas('asecpub21sas/pppub21.sas7bdat')\n",
    "print(sas_df.head())"
   ]
  },
  {
   "cell_type": "code",
   "execution_count": 15,
   "metadata": {},
   "outputs": [
    {
     "name": "stdout",
     "output_type": "stream",
     "text": [
      "['PERIDNUM', 'PH_SEQ', 'P_SEQ', 'A_LINENO', 'PF_SEQ', 'PHF_SEQ', 'OED_TYP1', 'OED_TYP2', 'OED_TYP3', 'PERRP', 'PXRRP', 'PXMARITL', 'PXRACE1', 'PEHSPNON', 'PXHSPNON', 'PEAFEVER', 'PXAFEVER', 'PEAFWHN1', 'PXAFWHN1', 'PEAFWHN2', 'PEAFWHN3', 'PEAFWHN4', 'PXSPOUSE', 'PENATVTY', 'PXNATVTY', 'PEMNTVTY', 'PXMNTVTY', 'PEFNTVTY', 'PXFNTVTY', 'PEINUSYR', 'PXINUSYR', 'PEPAR1', 'PXPAR1', 'PEPAR2', 'PXPAR2', 'PEPAR1TYP', 'PXPAR1TYP', 'PEPAR2TYP', 'PXPAR2TYP', 'PRDASIAN', 'PRDTHSP', 'PRDTRACE', 'PRPERTYP', 'PRCITFLG', 'PRCITSHP', 'PECOHAB', 'PXCOHAB', 'PEABSRSN', 'PEHRUSLT', 'PEMLR', 'PRDISC', 'PRPTREA', 'PRUNTYPE', 'PRWKSTAT', 'PEIO1COW', 'PRCOW1', 'PRERELG', 'PRWERNAL', 'PRHERNAL', 'PRNLFSCH', 'PEDISEAR', 'PEDISEYE', 'PEDISREM', 'PEDISPHY', 'PEDISDRS', 'PEDISOUT', 'PXDISEAR', 'PXDISEYE', 'PXDISREM', 'PXDISPHY', 'PXDISDRS', 'PXDISOUT', 'PRDISFLG', 'PECERT1', 'PECERT2', 'PECERT3', 'PXCERT1', 'PXCERT2', 'PXCERT3', 'A_AGE', 'A_SEX', 'A_DTIND', 'A_HRSPAY', 'A_PAYABS', 'A_WANTJB', 'A_HRLYWK', 'A_ENRLW', 'A_EXPLF', 'A_MJIND', 'A_UNMEM', 'A_MJOCC', 'A_DTOCC', 'A_UNCOV', 'A_HSCOL', 'A_FTPT', 'A_WKSCH', 'A_FNLWGT', 'A_ERNLWT', 'A_FAMREL', 'A_FAMNUM', 'AXAGE', 'AXSEX', 'AXLFSR', 'AXHRS', 'AXWHYABS', 'AXPAYABS', 'AXCLSWKR', 'AXNLFLJ', 'AXUSLHRS', 'AXUNMEM', 'AXUNCOV', 'AXENRLW', 'AXHSCOL', 'AXFTPT', 'AXHGA', 'AXHRLYWK', 'A_USLHRS', 'A_FAMTYP', 'A_GRSWK', 'A_WKSLK', 'A_SPOUSE', 'A_MARITL', 'A_HGA', 'A_HRS1', 'P_STAT', 'A_USLFT', 'A_CIVLF', 'A_FTLF', 'A_UNTYPE', 'A_CLSWKR', 'A_EXPRRP', 'A_WKSTAT', 'A_LFSR', 'A_WHYABS', 'A_PFREL', 'A_WHENLJ', 'A_NLFLJ', 'MARSUPWT', 'ACTC_CRD', 'AGE1', 'AGI', 'ANN_VAL', 'ANN_YN', 'CAID', 'CAP_VAL', 'CAP_YN', 'CHAMPVA', 'CHCARE_YN', 'CHELSEW_YN', 'CHSP_VAL', 'CHSP_YN', 'CLWK', 'COV', 'COV_CYR', 'COV_MULT_CYR', 'CSP_VAL', 'CSP_YN', 'CTC_CRD', 'DBTN_VAL', 'DEPDIR', 'DEPGRP', 'DEPMIL', 'DEPMRK', 'DEPMRKS', 'DEPMRKUN', 'DEPNONM', 'DEPPRIV', 'DIR', 'DIRFTYP', 'DIRFTYP2', 'DIRLIN1', 'DIROUT', 'DIS_CS', 'DIS_HP', 'DIS_SC1', 'DIS_SC2', 'DIS_VAL1', 'DIS_VAL2', 'DIS_YN', 'DIV_VAL', 'DIV_YN', 'DSAB_VAL', 'DST_SC1', 'DST_SC2', 'DST_SC1_YNG', 'DST_SC2_YNG', 'DST_VAL1', 'DST_VAL2', 'DST_VAL1_YNG', 'DST_VAL2_YNG', 'DST_YN', 'DST_YN_YNG', 'EARNER', 'ED_VAL', 'ED_YN', 'EIT_CRED', 'ERN_OTR', 'ERN_SRCE', 'ERN_VAL', 'ERN_YN', 'ESICOULD', 'ESIELIG1', 'ESIELIG2', 'ESIELIG3', 'ESIELIG4', 'ESIELIG5', 'ESIELIG6', 'ESIOFFER', 'ESITAKE1', 'ESITAKE2', 'ESITAKE3', 'ESITAKE4', 'ESITAKE5', 'ESITAKE6', 'ESITAKE7', 'ESITAKE8', 'FAMREL', 'FEDTAX_AC', 'FEDTAX_BC', 'FED_RET', 'FICA', 'FIN_VAL', 'FIN_YN', 'FRMOTR', 'FRM_VAL', 'FRSE_VAL', 'FRSE_YN', 'GRP', 'GRPFTYP', 'GRPFTYP2', 'GRPLIN1', 'GRPOUT', 'HEA', 'HHDFMX', 'HHDREL', 'HIPAID', 'HRCHECK', 'HRSWK', 'IHSFLG', 'INDUSTRY', 'INT_VAL', 'INT_YN', 'I_ANNVAL', 'I_ANNYN', 'I_CAID', 'I_CAPVAL', 'I_CAPYN', 'I_CHAMPVA', 'I_CHCAREYN', 'I_CHELSEWYN', 'I_CHSPVAL', 'I_CHSPYN', 'I_CSPVAL', 'I_CSPYN', 'I_DEPDIR', 'I_DEPGRP', 'I_DEPMIL', 'I_DEPMRK', 'I_DEPMRKS', 'I_DEPMRKUN', 'I_DEPNONM', 'I_DEPPRIV', 'I_DIR', 'I_DIROUT', 'I_DISCS', 'I_DISHP', 'I_DISSC1', 'I_DISSC2', 'I_DISYN', 'I_DIVVAL', 'I_DIVYN', 'I_DSTSC', 'I_DSTSCCOMP', 'I_DSTVAL1COMP', 'I_DSTVAL2COMP', 'I_DSTYNCOMP', 'I_EDTYP', 'I_EDYN', 'I_ERNSRC', 'I_ERNVAL', 'I_ERNYN', 'I_ESICOULD', 'I_ESIELIG1', 'I_ESIELIG2', 'I_ESIELIG3', 'I_ESIELIG4', 'I_ESIELIG5', 'I_ESIELIG6', 'I_ESIOFFER', 'I_ESITAKE1', 'I_ESITAKE2', 'I_ESITAKE3', 'I_ESITAKE4', 'I_ESITAKE5', 'I_ESITAKE6', 'I_ESITAKE7', 'I_ESITAKE8', 'I_FINVAL', 'I_FINYN', 'I_FRMVAL', 'I_FRMYN', 'I_GRP', 'I_GRPOUT', 'I_HEA', 'I_HIPAID', 'I_HRCHK', 'I_HRSWK', 'I_IHSFLG', 'I_INDUS', 'I_INTVAL', 'I_INTYN', 'I_LJCW', 'I_LKSTR', 'I_LKWEEK', 'I_LOSEWK', 'I_MCAID', 'I_MCARE', 'I_MCPREM', 'I_MIG1', 'I_MIG2', 'I_MIG3', 'I_MIL', 'I_MILOUT', 'I_MOOP', 'I_MOOP2', 'I_MRK', 'I_MRKOUT', 'I_MRKS', 'I_MRKSOUT', 'I_MRKUN', 'I_MRKUNOUT', 'I_NOEMP', 'I_NONM', 'I_NONMOUT', 'I_NOW_CAID', 'I_NOW_CHAMPVA', 'I_NOW_DEPDIR', 'I_NOW_DEPGRP', 'I_NOW_DEPMIL', 'I_NOW_DEPMRK', 'I_NOW_DEPMRKS', 'I_NOW_DEPMRKUN', 'I_NOW_DEPNONM', 'I_NOW_DEPPRIV', 'I_NOW_DIR', 'I_NOW_DIROUT', 'I_NOW_GRP', 'I_NOW_GRPOUT', 'I_NOW_HIPAID', 'I_NOW_IHSFLG', 'I_NOW_MCAID', 'I_NOW_MCARE', 'I_NOW_MIL', 'I_NOW_MILOUT', 'I_NOW_MRK', 'I_NOW_MRKOUT', 'I_NOW_MRKS', 'I_NOW_MRKSOUT', 'I_NOW_MRKUN', 'I_NOW_MRKUNOUT', 'I_NOW_NONM', 'I_NOW_NONMOUT', 'I_NOW_OTHMT', 'I_NOW_OUTDIR', 'I_NOW_OUTGRP', 'I_NOW_OUTMIL', 'I_NOW_OUTMRK', 'I_NOW_OUTMRKS', 'I_NOW_OUTMRKUN', 'I_NOW_OUTNONM', 'I_NOW_OUTPRIV', 'I_NOW_OWNDIR', 'I_NOW_OWNGRP', 'I_NOW_OWNMIL', 'I_NOW_OWNMRK', 'I_NOW_OWNMRKS', 'I_NOW_OWNMRKUN', 'I_NOW_OWNNONM', 'I_NOW_OWNPRIV', 'I_NOW_PCHIP', 'I_NOW_PRIV', 'I_NOW_PUB', 'I_NOW_VACARE', 'I_NWLKWK', 'I_NWLOOK', 'I_NXTRES', 'I_OCCUP', 'I_OEDVAL', 'I_OIVAL', 'I_OTHMT', 'I_OUTDIR', 'I_OUTGRP', 'I_OUTMIL', 'I_OUTMRK', 'I_OUTMRKS', 'I_OUTMRKUN', 'I_OUTNONM', 'I_OUTPRIV', 'I_OWNDIR', 'I_OWNGRP', 'I_OWNMIL', 'I_OWNMRK', 'I_OWNMRKS', 'I_OWNMRKUN', 'I_OWNNONM', 'I_OWNPRIV', 'I_PAWMO', 'I_PAWTYP', 'I_PAWVAL', 'I_PAWYN', 'I_PCHIP', 'I_PECOULD', 'I_PENINC', 'I_PENPLA', 'I_PENSC1', 'I_PENSC2', 'I_PENVAL1', 'I_PENVAL2', 'I_PENYN', 'I_PEOFFER', 'I_PEWNELIG1', 'I_PEWNELIG2', 'I_PEWNELIG3', 'I_PEWNELIG4', 'I_PEWNELIG5', 'I_PEWNELIG6', 'I_PEWNTAKE1', 'I_PEWNTAKE2', 'I_PEWNTAKE3', 'I_PEWNTAKE4', 'I_PEWNTAKE5', 'I_PEWNTAKE6', 'I_PEWNTAKE7', 'I_PEWNTAKE8', 'I_PHIPVAL', 'I_PHIPVAL2', 'I_PHMEMP', 'I_PMEDVAL', 'I_POTCVAL', 'I_PRIV', 'I_PTRSN', 'I_PTWKS', 'I_PTYN', 'I_PUB', 'I_PYRSN', 'I_RETCBVAL', 'I_RETCBYN', 'I_RINTSC', 'I_RINTVAL1', 'I_RINTVAL2', 'I_RINTYN', 'I_RNTVAL', 'I_RNTYN', 'I_RSNNOT', 'I_SEVAL', 'I_SEYN', 'I_SSIVAL', 'I_SSIYN', 'I_SSVAL', 'I_SSYN', 'I_SURSC1', 'I_SURSC2', 'I_SURYN', 'I_UCVAL', 'I_UCYN', 'I_VACARE', 'I_VETQVA', 'I_VETTYP', 'I_VETVAL', 'I_VETYN', 'I_WCTYP', 'I_WCVAL', 'I_WCYN', 'I_WKCHK', 'I_WKSWK', 'I_WORKYN', 'I_WSVAL', 'I_WSYN', 'I_WTEMP', 'LJCW', 'LKNONE', 'LKSTRCH', 'LKWEEKS', 'LOSEWKS', 'MARG_TAX', 'MCAID', 'MCAID_CYR', 'MCARE', 'MIGSAME', 'MIG_DIV', 'MIG_MTR1', 'MIG_MTR3', 'MIG_MTR4', 'MIG_REG', 'MIG_ST', 'MIL', 'MILFTYP', 'MILFTYP2', 'MILLIN1', 'MILOUT', 'MOOP', 'MOOP2', 'MRK', 'MRKFTYP', 'MRKFTYP2', 'MRKLIN1', 'MRKOUT', 'MRKS', 'MRKSFTYP', 'MRKSFTYP2', 'MRKSLIN1', 'MRKSOUT', 'MRKUN', 'MRKUNFTYP', 'MRKUNFTYP2', 'MRKUNLIN1', 'MRKUNOUT', 'NOCOV_CYR', 'NOEMP', 'NONM', 'NONMFTYP', 'NONMFTYP2', 'NONMLIN1', 'NONMOUT', 'NOW_CAID', 'NOW_CHAMPVA', 'NOW_COV', 'NOW_DEPDIR', 'NOW_DEPGRP', 'NOW_DEPMIL', 'NOW_DEPMRK', 'NOW_DEPMRKS', 'NOW_DEPMRKUN', 'NOW_DEPNONM', 'NOW_DEPPRIV', 'NOW_DIR', 'NOW_DIRFTYP', 'NOW_DIRFTYP2', 'NOW_DIRLIN', 'NOW_DIROUT', 'NOW_GRP', 'NOW_GRPFTYP', 'NOW_GRPFTYP2', 'NOW_GRPLIN', 'NOW_GRPOUT', 'NOW_HIPAID', 'NOW_IHSFLG', 'NOW_MCAID', 'NOW_MCARE', 'NOW_MIL', 'NOW_MILFTYP', 'NOW_MILFTYP2', 'NOW_MILLIN', 'NOW_MILOUT', 'NOW_MRK', 'NOW_MRKFTYP', 'NOW_MRKFTYP2', 'NOW_MRKLIN', 'NOW_MRKOUT', 'NOW_MRKS', 'NOW_MRKSFTYP', 'NOW_MRKSFTYP2', 'NOW_MRKSLIN', 'NOW_MRKSOUT', 'NOW_MRKUN', 'NOW_MRKUNFTYP', 'NOW_MRKUNFTYP2', 'NOW_MRKUNLIN', 'NOW_MRKUNOUT', 'NOW_NONM', 'NOW_NONMFTYP', 'NOW_NONMFTYP2', 'NOW_NONMLIN', 'NOW_NONMOUT', 'NOW_OTHMT', 'NOW_OUTDIR', 'NOW_OUTGRP', 'NOW_OUTMIL', 'NOW_OUTMRK', 'NOW_OUTMRKS', 'NOW_OUTMRKUN', 'NOW_OUTNONM', 'NOW_OUTPRIV', 'NOW_OWNDIR', 'NOW_OWNGRP', 'NOW_OWNMIL', 'NOW_OWNMRK', 'NOW_OWNMRKS', 'NOW_OWNMRKUN', 'NOW_OWNNONM', 'NOW_OWNPRIV', 'NOW_PCHIP', 'NOW_PRIV', 'NOW_PUB', 'NOW_VACARE', 'NWLKWK', 'NWLOOK', 'NXTRES', 'OCCUP', 'OI_OFF', 'OI_VAL', 'OI_YN', 'OTHMT', 'OUTDIR', 'OUTGRP', 'OUTMIL', 'OUTMRK', 'OUTMRKS', 'OUTMRKUN', 'OUTNONM', 'OUTPRIV', 'OWNDIR', 'OWNGRP', 'OWNMIL', 'OWNMRK', 'OWNMRKS', 'OWNMRKUN', 'OWNNONM', 'OWNPRIV', 'PARENT', 'PAW_MON', 'PAW_TYP', 'PAW_VAL', 'PAW_YN', 'PCHIP', 'PEARNVAL', 'PECOULD', 'PEMCPREM', 'PENINCL', 'PENPLAN', 'PEN_SC1', 'PEN_SC2', 'PEN_VAL1', 'PEN_VAL2', 'PEN_YN', 'PEOFFER', 'PERLIS', 'PEWNELIG1', 'PEWNELIG2', 'PEWNELIG3', 'PEWNELIG4', 'PEWNELIG5', 'PEWNELIG6', 'PEWNTAKE1', 'PEWNTAKE2', 'PEWNTAKE3', 'PEWNTAKE4', 'PEWNTAKE5', 'PEWNTAKE6', 'PEWNTAKE7', 'PEWNTAKE8', 'PHIP_VAL', 'PHIP_VAL2', 'PHMEMPRS', 'PMED_VAL', 'PNSN_VAL', 'POCCU2', 'POTC_VAL', 'POTHVAL', 'POV_UNIV', 'PPPOS', 'PRECORD', 'PRIV', 'PRIV_CYR', 'PRSWKXPNS', 'PTOTVAL', 'PTOT_R', 'PTRSN', 'PTWEEKS', 'PTYN', 'PUB', 'PUB_CYR', 'PYRSN', 'RESNSS1', 'RESNSS2', 'RESNSSA', 'RESNSSI1', 'RESNSSI2', 'RESNSSIA', 'RETCB_VAL', 'RETCB_YN', 'RINT_SC1', 'RINT_SC2', 'RINT_VAL1', 'RINT_VAL2', 'RINT_YN', 'RNT_VAL', 'RNT_YN', 'RSNNOTW', 'SEMP_VAL', 'SEMP_YN', 'SEOTR', 'SE_VAL', 'SPM_ACTC', 'SPM_CAPHOUSESUB', 'SPM_CAPWKCCXPNS', 'SPM_CHILDCAREXPNS', 'SPM_CHILDSUPPD', 'SPM_EITC', 'SPM_ENGVAL', 'SPM_EQUIVSCALE', 'SPM_FAMTYPE', 'SPM_FEDTAX', 'SPM_FEDTAXBC', 'SPM_FICA', 'SPM_GEOADJ', 'SPM_HAGE', 'SPM_HEAD', 'SPM_HHISP', 'SPM_HMARITALSTATUS', 'SPM_HRACE', 'SPM_ID', 'SPM_MEDXPNS', 'SPM_NUMADULTS', 'SPM_NUMKIDS', 'SPM_NUMPER', 'SPM_POOR', 'SPM_POVTHRESHOLD', 'SPM_RESOURCES', 'SPM_SCHLUNCH', 'SPM_SNAPSUB', 'SPM_STTAX', 'SPM_TENMORTSTATUS', 'SPM_TOTVAL', 'SPM_WCOHABIT', 'SPM_WEIGHT', 'SPM_WFOSTER22', 'SPM_WICVAL', 'SPM_WKXPNS', 'SPM_WNEWHEAD', 'SPM_WNEWPARENT', 'SPM_WUI_LT15', 'SRVS_VAL', 'SSI_VAL', 'SSI_YN', 'SS_VAL', 'SS_YN', 'STATETAX_A', 'STATETAX_B', 'STRKUC', 'SUBUC', 'SUR_SC1', 'SUR_SC2', 'SUR_VAL1', 'SUR_VAL2', 'SUR_YN', 'TAX_INC', 'TRDINT_VAL', 'UC_VAL', 'UC_YN', 'VACARE', 'VET_QVA', 'VET_TYP1', 'VET_TYP2', 'VET_TYP3', 'VET_TYP4', 'VET_TYP5', 'VET_VAL', 'VET_YN', 'WAGEOTR', 'WC_TYPE', 'WC_VAL', 'WC_YN', 'WECLW', 'WEIND', 'WELKNW', 'WEMIND', 'WEMOCG', 'WEUEMP', 'WEWKRS', 'WEXP', 'WICYN', 'WICYNA', 'WKCHECK', 'WKSWORK', 'WORKYN', 'WRK_CK', 'WSAL_VAL', 'WSAL_YN', 'WS_VAL', 'WTEMP', 'FL_665', 'TPEN_VAL1', 'TPEN_VAL2', 'TANN_VAL', 'TDST_VAL1', 'TDST_VAL2', 'TDST_VAL1_YNG', 'TDST_VAL2_YNG', 'TFIN_VAL', 'TOI_VAL', 'TTRDINT_VAL', 'TRINT_VAL1', 'TRINT_VAL2', 'TRNT_VAL', 'TCAP_VAL', 'TDIV_VAL', 'TCSP_VAL', 'TED_VAL', 'TCHSP_VAL', 'TPHIP_VAL', 'TPHIP_VAL2', 'TPMED_VAL', 'TPOTC_VAL', 'TPEMCPREM', 'TCERNVAL', 'TCWSVAL', 'TCSEVAL', 'TCFFMVAL', 'TSURVAL1', 'TSURVAL2', 'TDISVAL1', 'TDISVAL2', 'TAX_ID', 'EIP_CRD', 'SPM_EIP', 'PEIOIND', 'PEIOOCC', 'A_WERNTF', 'A_HERNTF', 'I_DISVL1', 'I_DISVL2', 'I_SURVL1', 'I_SURVL2', 'MIG_CBST', 'MIG_DSCP', 'DEP_STAT', 'FILEDATE', 'FILESTAT', 'YYYYMM']\n"
     ]
    }
   ],
   "source": [
    "print(list(csv_df))"
   ]
  },
  {
   "cell_type": "code",
   "execution_count": 16,
   "metadata": {},
   "outputs": [
    {
     "name": "stdout",
     "output_type": "stream",
     "text": [
      "['PERIDNUM', 'PH_SEQ', 'P_SEQ', 'A_LINENO', 'PF_SEQ', 'PHF_SEQ', 'OED_TYP1', 'OED_TYP2', 'OED_TYP3', 'PERRP', 'PXRRP', 'PXMARITL', 'PXRACE1', 'PEHSPNON', 'PXHSPNON', 'PEAFEVER', 'PXAFEVER', 'PEAFWHN1', 'PXAFWHN1', 'PEAFWHN2', 'PEAFWHN3', 'PEAFWHN4', 'PXSPOUSE', 'PENATVTY', 'PXNATVTY', 'PEMNTVTY', 'PXMNTVTY', 'PEFNTVTY', 'PXFNTVTY', 'PEINUSYR', 'PXINUSYR', 'PEPAR1', 'PXPAR1', 'PEPAR2', 'PXPAR2', 'PEPAR1TYP', 'PXPAR1TYP', 'PEPAR2TYP', 'PXPAR2TYP', 'PRDASIAN', 'PRDTHSP', 'PRDTRACE', 'PRPERTYP', 'PRCITFLG', 'PRCITSHP', 'PECOHAB', 'PXCOHAB', 'PEABSRSN', 'PEHRUSLT', 'PEMLR', 'PRDISC', 'PRPTREA', 'PRUNTYPE', 'PRWKSTAT', 'PEIO1COW', 'PRCOW1', 'PRERELG', 'PRWERNAL', 'PRHERNAL', 'PRNLFSCH', 'PEDISEAR', 'PEDISEYE', 'PEDISREM', 'PEDISPHY', 'PEDISDRS', 'PEDISOUT', 'PXDISEAR', 'PXDISEYE', 'PXDISREM', 'PXDISPHY', 'PXDISDRS', 'PXDISOUT', 'PRDISFLG', 'PECERT1', 'PECERT2', 'PECERT3', 'PXCERT1', 'PXCERT2', 'PXCERT3', 'A_AGE', 'A_SEX', 'A_DTIND', 'A_HRSPAY', 'A_PAYABS', 'A_WANTJB', 'A_HRLYWK', 'A_ENRLW', 'A_EXPLF', 'A_MJIND', 'A_UNMEM', 'A_MJOCC', 'A_DTOCC', 'A_UNCOV', 'A_HSCOL', 'A_FTPT', 'A_WKSCH', 'A_FNLWGT', 'A_ERNLWT', 'A_FAMREL', 'A_FAMNUM', 'AXAGE', 'AXSEX', 'AXLFSR', 'AXHRS', 'AXWHYABS', 'AXPAYABS', 'AXCLSWKR', 'AXNLFLJ', 'AXUSLHRS', 'AXUNMEM', 'AXUNCOV', 'AXENRLW', 'AXHSCOL', 'AXFTPT', 'AXHGA', 'AXHRLYWK', 'A_USLHRS', 'A_FAMTYP', 'A_GRSWK', 'A_WKSLK', 'A_SPOUSE', 'A_MARITL', 'A_HGA', 'A_HRS1', 'P_STAT', 'A_USLFT', 'A_CIVLF', 'A_FTLF', 'A_UNTYPE', 'A_CLSWKR', 'A_EXPRRP', 'A_WKSTAT', 'A_LFSR', 'A_WHYABS', 'A_PFREL', 'A_WHENLJ', 'A_NLFLJ', 'MARSUPWT', 'ACTC_CRD', 'AGE1', 'AGI', 'ANN_VAL', 'ANN_YN', 'CAID', 'CAP_VAL', 'CAP_YN', 'CHAMPVA', 'CHCARE_YN', 'CHELSEW_YN', 'CHSP_VAL', 'CHSP_YN', 'CLWK', 'COV', 'COV_CYR', 'COV_MULT_CYR', 'CSP_VAL', 'CSP_YN', 'CTC_CRD', 'DBTN_VAL', 'DEPDIR', 'DEPGRP', 'DEPMIL', 'DEPMRK', 'DEPMRKS', 'DEPMRKUN', 'DEPNONM', 'DEPPRIV', 'DIR', 'DIRFTYP', 'DIRFTYP2', 'DIRLIN1', 'DIROUT', 'DIS_CS', 'DIS_HP', 'DIS_SC1', 'DIS_SC2', 'DIS_VAL1', 'DIS_VAL2', 'DIS_YN', 'DIV_VAL', 'DIV_YN', 'DSAB_VAL', 'DST_SC1', 'DST_SC2', 'DST_SC1_YNG', 'DST_SC2_YNG', 'DST_VAL1', 'DST_VAL2', 'DST_VAL1_YNG', 'DST_VAL2_YNG', 'DST_YN', 'DST_YN_YNG', 'EARNER', 'ED_VAL', 'ED_YN', 'EIT_CRED', 'ERN_OTR', 'ERN_SRCE', 'ERN_VAL', 'ERN_YN', 'ESICOULD', 'ESIELIG1', 'ESIELIG2', 'ESIELIG3', 'ESIELIG4', 'ESIELIG5', 'ESIELIG6', 'ESIOFFER', 'ESITAKE1', 'ESITAKE2', 'ESITAKE3', 'ESITAKE4', 'ESITAKE5', 'ESITAKE6', 'ESITAKE7', 'ESITAKE8', 'FAMREL', 'FEDTAX_AC', 'FEDTAX_BC', 'FED_RET', 'FICA', 'FIN_VAL', 'FIN_YN', 'FRMOTR', 'FRM_VAL', 'FRSE_VAL', 'FRSE_YN', 'GRP', 'GRPFTYP', 'GRPFTYP2', 'GRPLIN1', 'GRPOUT', 'HEA', 'HHDFMX', 'HHDREL', 'HIPAID', 'HRCHECK', 'HRSWK', 'IHSFLG', 'INDUSTRY', 'INT_VAL', 'INT_YN', 'I_ANNVAL', 'I_ANNYN', 'I_CAID', 'I_CAPVAL', 'I_CAPYN', 'I_CHAMPVA', 'I_CHCAREYN', 'I_CHELSEWYN', 'I_CHSPVAL', 'I_CHSPYN', 'I_CSPVAL', 'I_CSPYN', 'I_DEPDIR', 'I_DEPGRP', 'I_DEPMIL', 'I_DEPMRK', 'I_DEPMRKS', 'I_DEPMRKUN', 'I_DEPNONM', 'I_DEPPRIV', 'I_DIR', 'I_DIROUT', 'I_DISCS', 'I_DISHP', 'I_DISSC1', 'I_DISSC2', 'I_DISYN', 'I_DIVVAL', 'I_DIVYN', 'I_DSTSC', 'I_DSTSCCOMP', 'I_DSTVAL1COMP', 'I_DSTVAL2COMP', 'I_DSTYNCOMP', 'I_EDTYP', 'I_EDYN', 'I_ERNSRC', 'I_ERNVAL', 'I_ERNYN', 'I_ESICOULD', 'I_ESIELIG1', 'I_ESIELIG2', 'I_ESIELIG3', 'I_ESIELIG4', 'I_ESIELIG5', 'I_ESIELIG6', 'I_ESIOFFER', 'I_ESITAKE1', 'I_ESITAKE2', 'I_ESITAKE3', 'I_ESITAKE4', 'I_ESITAKE5', 'I_ESITAKE6', 'I_ESITAKE7', 'I_ESITAKE8', 'I_FINVAL', 'I_FINYN', 'I_FRMVAL', 'I_FRMYN', 'I_GRP', 'I_GRPOUT', 'I_HEA', 'I_HIPAID', 'I_HRCHK', 'I_HRSWK', 'I_IHSFLG', 'I_INDUS', 'I_INTVAL', 'I_INTYN', 'I_LJCW', 'I_LKSTR', 'I_LKWEEK', 'I_LOSEWK', 'I_MCAID', 'I_MCARE', 'I_MCPREM', 'I_MIG1', 'I_MIG2', 'I_MIG3', 'I_MIL', 'I_MILOUT', 'I_MOOP', 'I_MOOP2', 'I_MRK', 'I_MRKOUT', 'I_MRKS', 'I_MRKSOUT', 'I_MRKUN', 'I_MRKUNOUT', 'I_NOEMP', 'I_NONM', 'I_NONMOUT', 'I_NOW_CAID', 'I_NOW_CHAMPVA', 'I_NOW_DEPDIR', 'I_NOW_DEPGRP', 'I_NOW_DEPMIL', 'I_NOW_DEPMRK', 'I_NOW_DEPMRKS', 'I_NOW_DEPMRKUN', 'I_NOW_DEPNONM', 'I_NOW_DEPPRIV', 'I_NOW_DIR', 'I_NOW_DIROUT', 'I_NOW_GRP', 'I_NOW_GRPOUT', 'I_NOW_HIPAID', 'I_NOW_IHSFLG', 'I_NOW_MCAID', 'I_NOW_MCARE', 'I_NOW_MIL', 'I_NOW_MILOUT', 'I_NOW_MRK', 'I_NOW_MRKOUT', 'I_NOW_MRKS', 'I_NOW_MRKSOUT', 'I_NOW_MRKUN', 'I_NOW_MRKUNOUT', 'I_NOW_NONM', 'I_NOW_NONMOUT', 'I_NOW_OTHMT', 'I_NOW_OUTDIR', 'I_NOW_OUTGRP', 'I_NOW_OUTMIL', 'I_NOW_OUTMRK', 'I_NOW_OUTMRKS', 'I_NOW_OUTMRKUN', 'I_NOW_OUTNONM', 'I_NOW_OUTPRIV', 'I_NOW_OWNDIR', 'I_NOW_OWNGRP', 'I_NOW_OWNMIL', 'I_NOW_OWNMRK', 'I_NOW_OWNMRKS', 'I_NOW_OWNMRKUN', 'I_NOW_OWNNONM', 'I_NOW_OWNPRIV', 'I_NOW_PCHIP', 'I_NOW_PRIV', 'I_NOW_PUB', 'I_NOW_VACARE', 'I_NWLKWK', 'I_NWLOOK', 'I_NXTRES', 'I_OCCUP', 'I_OEDVAL', 'I_OIVAL', 'I_OTHMT', 'I_OUTDIR', 'I_OUTGRP', 'I_OUTMIL', 'I_OUTMRK', 'I_OUTMRKS', 'I_OUTMRKUN', 'I_OUTNONM', 'I_OUTPRIV', 'I_OWNDIR', 'I_OWNGRP', 'I_OWNMIL', 'I_OWNMRK', 'I_OWNMRKS', 'I_OWNMRKUN', 'I_OWNNONM', 'I_OWNPRIV', 'I_PAWMO', 'I_PAWTYP', 'I_PAWVAL', 'I_PAWYN', 'I_PCHIP', 'I_PECOULD', 'I_PENINC', 'I_PENPLA', 'I_PENSC1', 'I_PENSC2', 'I_PENVAL1', 'I_PENVAL2', 'I_PENYN', 'I_PEOFFER', 'I_PEWNELIG1', 'I_PEWNELIG2', 'I_PEWNELIG3', 'I_PEWNELIG4', 'I_PEWNELIG5', 'I_PEWNELIG6', 'I_PEWNTAKE1', 'I_PEWNTAKE2', 'I_PEWNTAKE3', 'I_PEWNTAKE4', 'I_PEWNTAKE5', 'I_PEWNTAKE6', 'I_PEWNTAKE7', 'I_PEWNTAKE8', 'I_PHIPVAL', 'I_PHIPVAL2', 'I_PHMEMP', 'I_PMEDVAL', 'I_POTCVAL', 'I_PRIV', 'I_PTRSN', 'I_PTWKS', 'I_PTYN', 'I_PUB', 'I_PYRSN', 'I_RETCBVAL', 'I_RETCBYN', 'I_RINTSC', 'I_RINTVAL1', 'I_RINTVAL2', 'I_RINTYN', 'I_RNTVAL', 'I_RNTYN', 'I_RSNNOT', 'I_SEVAL', 'I_SEYN', 'I_SSIVAL', 'I_SSIYN', 'I_SSVAL', 'I_SSYN', 'I_SURSC1', 'I_SURSC2', 'I_SURYN', 'I_UCVAL', 'I_UCYN', 'I_VACARE', 'I_VETQVA', 'I_VETTYP', 'I_VETVAL', 'I_VETYN', 'I_WCTYP', 'I_WCVAL', 'I_WCYN', 'I_WKCHK', 'I_WKSWK', 'I_WORKYN', 'I_WSVAL', 'I_WSYN', 'I_WTEMP', 'LJCW', 'LKNONE', 'LKSTRCH', 'LKWEEKS', 'LOSEWKS', 'MARG_TAX', 'MCAID', 'MCAID_CYR', 'MCARE', 'MIGSAME', 'MIG_DIV', 'MIG_MTR1', 'MIG_MTR3', 'MIG_MTR4', 'MIG_REG', 'MIG_ST', 'MIL', 'MILFTYP', 'MILFTYP2', 'MILLIN1', 'MILOUT', 'MOOP', 'MOOP2', 'MRK', 'MRKFTYP', 'MRKFTYP2', 'MRKLIN1', 'MRKOUT', 'MRKS', 'MRKSFTYP', 'MRKSFTYP2', 'MRKSLIN1', 'MRKSOUT', 'MRKUN', 'MRKUNFTYP', 'MRKUNFTYP2', 'MRKUNLIN1', 'MRKUNOUT', 'NOCOV_CYR', 'NOEMP', 'NONM', 'NONMFTYP', 'NONMFTYP2', 'NONMLIN1', 'NONMOUT', 'NOW_CAID', 'NOW_CHAMPVA', 'NOW_COV', 'NOW_DEPDIR', 'NOW_DEPGRP', 'NOW_DEPMIL', 'NOW_DEPMRK', 'NOW_DEPMRKS', 'NOW_DEPMRKUN', 'NOW_DEPNONM', 'NOW_DEPPRIV', 'NOW_DIR', 'NOW_DIRFTYP', 'NOW_DIRFTYP2', 'NOW_DIRLIN', 'NOW_DIROUT', 'NOW_GRP', 'NOW_GRPFTYP', 'NOW_GRPFTYP2', 'NOW_GRPLIN', 'NOW_GRPOUT', 'NOW_HIPAID', 'NOW_IHSFLG', 'NOW_MCAID', 'NOW_MCARE', 'NOW_MIL', 'NOW_MILFTYP', 'NOW_MILFTYP2', 'NOW_MILLIN', 'NOW_MILOUT', 'NOW_MRK', 'NOW_MRKFTYP', 'NOW_MRKFTYP2', 'NOW_MRKLIN', 'NOW_MRKOUT', 'NOW_MRKS', 'NOW_MRKSFTYP', 'NOW_MRKSFTYP2', 'NOW_MRKSLIN', 'NOW_MRKSOUT', 'NOW_MRKUN', 'NOW_MRKUNFTYP', 'NOW_MRKUNFTYP2', 'NOW_MRKUNLIN', 'NOW_MRKUNOUT', 'NOW_NONM', 'NOW_NONMFTYP', 'NOW_NONMFTYP2', 'NOW_NONMLIN', 'NOW_NONMOUT', 'NOW_OTHMT', 'NOW_OUTDIR', 'NOW_OUTGRP', 'NOW_OUTMIL', 'NOW_OUTMRK', 'NOW_OUTMRKS', 'NOW_OUTMRKUN', 'NOW_OUTNONM', 'NOW_OUTPRIV', 'NOW_OWNDIR', 'NOW_OWNGRP', 'NOW_OWNMIL', 'NOW_OWNMRK', 'NOW_OWNMRKS', 'NOW_OWNMRKUN', 'NOW_OWNNONM', 'NOW_OWNPRIV', 'NOW_PCHIP', 'NOW_PRIV', 'NOW_PUB', 'NOW_VACARE', 'NWLKWK', 'NWLOOK', 'NXTRES', 'OCCUP', 'OI_OFF', 'OI_VAL', 'OI_YN', 'OTHMT', 'OUTDIR', 'OUTGRP', 'OUTMIL', 'OUTMRK', 'OUTMRKS', 'OUTMRKUN', 'OUTNONM', 'OUTPRIV', 'OWNDIR', 'OWNGRP', 'OWNMIL', 'OWNMRK', 'OWNMRKS', 'OWNMRKUN', 'OWNNONM', 'OWNPRIV', 'PARENT', 'PAW_MON', 'PAW_TYP', 'PAW_VAL', 'PAW_YN', 'PCHIP', 'PEARNVAL', 'PECOULD', 'PEMCPREM', 'PENINCL', 'PENPLAN', 'PEN_SC1', 'PEN_SC2', 'PEN_VAL1', 'PEN_VAL2', 'PEN_YN', 'PEOFFER', 'PERLIS', 'PEWNELIG1', 'PEWNELIG2', 'PEWNELIG3', 'PEWNELIG4', 'PEWNELIG5', 'PEWNELIG6', 'PEWNTAKE1', 'PEWNTAKE2', 'PEWNTAKE3', 'PEWNTAKE4', 'PEWNTAKE5', 'PEWNTAKE6', 'PEWNTAKE7', 'PEWNTAKE8', 'PHIP_VAL', 'PHIP_VAL2', 'PHMEMPRS', 'PMED_VAL', 'PNSN_VAL', 'POCCU2', 'POTC_VAL', 'POTHVAL', 'POV_UNIV', 'PPPOS', 'PRECORD', 'PRIV', 'PRIV_CYR', 'PRSWKXPNS', 'PTOTVAL', 'PTOT_R', 'PTRSN', 'PTWEEKS', 'PTYN', 'PUB', 'PUB_CYR', 'PYRSN', 'RESNSS1', 'RESNSS2', 'RESNSSA', 'RESNSSI1', 'RESNSSI2', 'RESNSSIA', 'RETCB_VAL', 'RETCB_YN', 'RINT_SC1', 'RINT_SC2', 'RINT_VAL1', 'RINT_VAL2', 'RINT_YN', 'RNT_VAL', 'RNT_YN', 'RSNNOTW', 'SEMP_VAL', 'SEMP_YN', 'SEOTR', 'SE_VAL', 'SPM_ACTC', 'SPM_CAPHOUSESUB', 'SPM_CAPWKCCXPNS', 'SPM_CHILDCAREXPNS', 'SPM_CHILDSUPPD', 'SPM_EITC', 'SPM_ENGVAL', 'SPM_EQUIVSCALE', 'SPM_FAMTYPE', 'SPM_FEDTAX', 'SPM_FEDTAXBC', 'SPM_FICA', 'SPM_GEOADJ', 'SPM_HAGE', 'SPM_HEAD', 'SPM_HHISP', 'SPM_HMARITALSTATUS', 'SPM_HRACE', 'SPM_ID', 'SPM_MEDXPNS', 'SPM_NUMADULTS', 'SPM_NUMKIDS', 'SPM_NUMPER', 'SPM_POOR', 'SPM_POVTHRESHOLD', 'SPM_RESOURCES', 'SPM_SCHLUNCH', 'SPM_SNAPSUB', 'SPM_STTAX', 'SPM_TENMORTSTATUS', 'SPM_TOTVAL', 'SPM_WCOHABIT', 'SPM_WEIGHT', 'SPM_WFOSTER22', 'SPM_WICVAL', 'SPM_WKXPNS', 'SPM_WNEWHEAD', 'SPM_WNEWPARENT', 'SPM_WUI_LT15', 'SRVS_VAL', 'SSI_VAL', 'SSI_YN', 'SS_VAL', 'SS_YN', 'STATETAX_A', 'STATETAX_B', 'STRKUC', 'SUBUC', 'SUR_SC1', 'SUR_SC2', 'SUR_VAL1', 'SUR_VAL2', 'SUR_YN', 'TAX_INC', 'TRDINT_VAL', 'UC_VAL', 'UC_YN', 'VACARE', 'VET_QVA', 'VET_TYP1', 'VET_TYP2', 'VET_TYP3', 'VET_TYP4', 'VET_TYP5', 'VET_VAL', 'VET_YN', 'WAGEOTR', 'WC_TYPE', 'WC_VAL', 'WC_YN', 'WECLW', 'WEIND', 'WELKNW', 'WEMIND', 'WEMOCG', 'WEUEMP', 'WEWKRS', 'WEXP', 'WICYN', 'WICYNA', 'WKCHECK', 'WKSWORK', 'WORKYN', 'WRK_CK', 'WSAL_VAL', 'WSAL_YN', 'WS_VAL', 'WTEMP', 'FL_665', 'TPEN_VAL1', 'TPEN_VAL2', 'TANN_VAL', 'TDST_VAL1', 'TDST_VAL2', 'TDST_VAL1_YNG', 'TDST_VAL2_YNG', 'TFIN_VAL', 'TOI_VAL', 'TTRDINT_VAL', 'TRINT_VAL1', 'TRINT_VAL2', 'TRNT_VAL', 'TCAP_VAL', 'TDIV_VAL', 'TCSP_VAL', 'TED_VAL', 'TCHSP_VAL', 'TPHIP_VAL', 'TPHIP_VAL2', 'TPMED_VAL', 'TPOTC_VAL', 'TPEMCPREM', 'TCERNVAL', 'TCWSVAL', 'TCSEVAL', 'TCFFMVAL', 'TSURVAL1', 'TSURVAL2', 'TDISVAL1', 'TDISVAL2', 'TAX_ID', 'EIP_CRD', 'SPM_EIP', 'PEIOIND', 'PEIOOCC', 'A_WERNTF', 'A_HERNTF', 'I_DISVL1', 'I_DISVL2', 'I_SURVL1', 'I_SURVL2', 'MIG_CBST', 'MIG_DSCP', 'DEP_STAT', 'FILEDATE', 'FILESTAT', 'YYYYMM']\n"
     ]
    }
   ],
   "source": [
    "print(list(sas_df))"
   ]
  },
  {
   "cell_type": "code",
   "execution_count": 18,
   "metadata": {},
   "outputs": [
    {
     "name": "stdout",
     "output_type": "stream",
     "text": [
      "0.0     151477\n",
      "21.0      4287\n",
      "41.0      4043\n",
      "11.0      2035\n",
      "23.0       803\n",
      "43.0       594\n",
      "13.0       184\n",
      "42.0        53\n",
      "12.0        52\n",
      "22.0        15\n",
      "Name: PXRACE1, dtype: int64\n"
     ]
    }
   ],
   "source": [
    "freq = sas_df['PXRACE1'].value_counts()\n",
    "print(freq)"
   ]
  },
  {
   "cell_type": "code",
   "execution_count": 10,
   "metadata": {},
   "outputs": [
    {
     "name": "stdout",
     "output_type": "stream",
     "text": [
      "        PERIDNUM  PH_SEQ  P_SEQ  A_LINENO  PF_SEQ  PHF_SEQ  OED_TYP1  \\\n",
      "0          False   False  False     False   False    False     False   \n",
      "1          False   False  False     False   False    False     False   \n",
      "2          False   False  False     False   False    False     False   \n",
      "3          False   False  False     False   False    False     False   \n",
      "4          False   False  False     False   False    False     False   \n",
      "...          ...     ...    ...       ...     ...      ...       ...   \n",
      "163538     False   False  False     False   False    False     False   \n",
      "163539     False   False  False     False   False    False     False   \n",
      "163540     False   False  False     False   False    False     False   \n",
      "163541     False   False  False     False   False    False     False   \n",
      "163542     False   False  False     False   False    False     False   \n",
      "\n",
      "        OED_TYP2  OED_TYP3  PERRP  ...  I_DISVL1  I_DISVL2  I_SURVL1  \\\n",
      "0          False     False  False  ...     False     False     False   \n",
      "1          False     False  False  ...     False     False     False   \n",
      "2          False     False  False  ...     False     False     False   \n",
      "3          False     False  False  ...     False     False     False   \n",
      "4          False     False  False  ...     False     False     False   \n",
      "...          ...       ...    ...  ...       ...       ...       ...   \n",
      "163538     False     False  False  ...     False     False     False   \n",
      "163539     False     False  False  ...     False     False     False   \n",
      "163540     False     False  False  ...     False     False     False   \n",
      "163541     False     False  False  ...     False     False     False   \n",
      "163542     False     False  False  ...     False     False     False   \n",
      "\n",
      "        I_SURVL2  MIG_CBST  MIG_DSCP  DEP_STAT  FILEDATE  FILESTAT  YYYYMM  \n",
      "0          False     False     False     False     False     False   False  \n",
      "1          False     False     False     False     False     False   False  \n",
      "2          False     False     False     False     False     False   False  \n",
      "3          False     False     False     False     False     False   False  \n",
      "4          False     False     False     False     False     False   False  \n",
      "...          ...       ...       ...       ...       ...       ...     ...  \n",
      "163538     False     False     False     False     False     False   False  \n",
      "163539     False     False     False     False     False     False   False  \n",
      "163540     False     False     False     False     False     False   False  \n",
      "163541     False     False     False     False     False     False   False  \n",
      "163542     False     False     False     False     False     False   False  \n",
      "\n",
      "[163543 rows x 830 columns]\n"
     ]
    }
   ],
   "source": [
    "#checks for null values\n",
    "print(sas_df.isnull())"
   ]
  },
  {
   "cell_type": "code",
   "execution_count": null,
   "metadata": {},
   "outputs": [],
   "source": []
  }
 ],
 "metadata": {
  "kernelspec": {
   "display_name": "Python 3",
   "language": "python",
   "name": "python3"
  },
  "language_info": {
   "codemirror_mode": {
    "name": "ipython",
    "version": 3
   },
   "file_extension": ".py",
   "mimetype": "text/x-python",
   "name": "python",
   "nbconvert_exporter": "python",
   "pygments_lexer": "ipython3",
   "version": "3.8.5"
  }
 },
 "nbformat": 4,
 "nbformat_minor": 4
}
