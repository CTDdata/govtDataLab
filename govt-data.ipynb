{
 "cells": [
  {
   "cell_type": "code",
   "execution_count": null,
   "metadata": {},
   "outputs": [],
   "source": [
    "#UPDATE this cell with your data source + Dictionary/Codebook\n",
    "#data source: https://www.census.gov/data/datasets/time-series/demo/cps/cps-asec.2021.html\n",
    "#data dictionary: https://www2.census.gov/programs-surveys/cps/datasets/2021/march/asec2021_ddl_pub_full.pdf"
   ]
  },
  {
   "cell_type": "code",
   "execution_count": 1,
   "metadata": {},
   "outputs": [],
   "source": [
    "#import necessary libaries\n",
    "import pandas as pd\n",
    "import matplotlib"
   ]
  },
  {
   "cell_type": "code",
   "execution_count": 2,
   "metadata": {},
   "outputs": [],
   "source": [
    "#name file path (you will have download your own dataset and populate the path and choose the appropriate cell to execute)\n",
    "file = 'asecpub21csv/pppub21.csv' # <-- edit this value! "
   ]
  },
  {
   "cell_type": "code",
   "execution_count": null,
   "metadata": {},
   "outputs": [],
   "source": [
    "#you will run just ONE of the next three code blocks, depending on the file type of your dataset"
   ]
  },
  {
   "cell_type": "code",
   "execution_count": 3,
   "metadata": {},
   "outputs": [
    {
     "name": "stdout",
     "output_type": "stream",
     "text": [
      "                 PERIDNUM  PH_SEQ  P_SEQ  A_LINENO  PF_SEQ  PHF_SEQ  OED_TYP1  \\\n",
      "0  8238946011902051101101       1      1         1       1        1         0   \n",
      "1  8238946011902051101102       1      2         2       1        1         0   \n",
      "2  8238946011902051101103       1      3         3       1        1         0   \n",
      "3  6092052593105071201101       2      1         1       1        1         0   \n",
      "4  6092052593105071201102       2      2         2       1        1         0   \n",
      "\n",
      "   OED_TYP2  OED_TYP3  PERRP  ...  I_DISVL1  I_DISVL2  I_SURVL1  I_SURVL2  \\\n",
      "0         0         0     40  ...         0         0         0         0   \n",
      "1         0         0     42  ...         0         0         0         0   \n",
      "2         0         0     50  ...         0         0         0         0   \n",
      "3         0         0     40  ...         0         0         0         0   \n",
      "4         0         0     42  ...         0         0         0         0   \n",
      "\n",
      "   MIG_CBST  MIG_DSCP  DEP_STAT  FILEDATE  FILESTAT  YYYYMM  \n",
      "0         0         0         0     81921         1  202103  \n",
      "1         0         0         0     81921         1  202103  \n",
      "2         0         0         0     81921         5  202103  \n",
      "3         0         0         0     81921         3  202103  \n",
      "4         0         0         0     81921         3  202103  \n",
      "\n",
      "[5 rows x 830 columns]\n"
     ]
    }
   ],
   "source": [
    "#read data from CSV & print head\n",
    "df = pd.read_csv(file)\n",
    "print(df.head())"
   ]
  },
  {
   "cell_type": "code",
   "execution_count": null,
   "metadata": {},
   "outputs": [],
   "source": [
    "#read data from SAS & print head\n",
    "df = pd.read_sas(file)\n",
    "print(df.head())"
   ]
  },
  {
   "cell_type": "code",
   "execution_count": null,
   "metadata": {},
   "outputs": [],
   "source": [
    "#read data from excel & print head\n",
    "df = pd.read_excel(file)\n",
    "print(df.head())"
   ]
  },
  {
   "cell_type": "code",
   "execution_count": null,
   "metadata": {},
   "outputs": [],
   "source": [
    "#list columns in data frame\n",
    "print(list(df))"
   ]
  },
  {
   "cell_type": "code",
   "execution_count": 4,
   "metadata": {},
   "outputs": [
    {
     "name": "stdout",
     "output_type": "stream",
     "text": [
      "    Educational Attainment   freq\n",
      "1                        0  34433\n",
      "16                      31    395\n",
      "15                      32    769\n",
      "14                      33   1518\n",
      "10                      34   2755\n",
      "9                       35   3626\n",
      "8                       36   4018\n",
      "7                       37   4355\n",
      "12                      38   2073\n",
      "0                       39  35114\n",
      "3                       40  20654\n",
      "6                       41   5312\n",
      "5                       42   7145\n",
      "2                       43  25979\n",
      "4                       44  11358\n",
      "13                      45   1687\n",
      "11                      46   2352\n"
     ]
    }
   ],
   "source": [
    "#output frequency table of chosen column in dataset\n",
    "col = 'A_HGA' #<-edit this value! column name as it appears in dataframe\n",
    "col_name = 'Educational Attainment' #<-edit this value! descriptive name for column\n",
    "freq = df[col].value_counts().rename_axis(col_name).reset_index(name='freq')\n",
    "freq = freq.sort_values(by = col_name)\n",
    "print(freq)"
   ]
  },
  {
   "cell_type": "code",
   "execution_count": 5,
   "metadata": {},
   "outputs": [
    {
     "name": "stdout",
     "output_type": "stream",
     "text": [
      "                               Educational Attainment   freq\n",
      "1                                            Children  34433\n",
      "16                                Less than 1st grade    395\n",
      "15                           1st,2nd,3rd,or 4th grade    769\n",
      "14                                   5th or 6th grade   1518\n",
      "10                                  7th and 8th grade   2755\n",
      "9                                           9th grade   3626\n",
      "8                                          10th grade   4018\n",
      "7                                          11th grade   4355\n",
      "12                              12th grade no diploma   2073\n",
      "0   High school graduate - high school diploma or ...  35114\n",
      "3                          Some college but no degree  20654\n",
      "6   Associate degree in college - occupation/vocation   5312\n",
      "5      Associate degree in college - academic program   7145\n",
      "2           Bachelor's degree (for example: BA,AB,BS)  25979\n",
      "4                                     Master's degree  11358\n",
      "13                         Professional school degree   1687\n",
      "11                                   Doctorate degree   2352\n"
     ]
    }
   ],
   "source": [
    "#replace codes with descriptive labels\n",
    "#if your dataframe already has descriptive labels, you don't need to run this cell\n",
    "codebook = [['0', 'Children'], #<- if appropriate, replace these values based on codebook or data dictionary for your dataset\n",
    "            ['31', 'Less than 1st grade'], \n",
    "            ['32', '1st,2nd,3rd,or 4th grade'], \n",
    "            ['33', '5th or 6th grade'], \n",
    "            ['34', '7th and 8th grade'], \n",
    "            ['35', '9th grade'], \n",
    "            ['36', '10th grade'], \n",
    "            ['37', '11th grade'], \n",
    "            ['38', '12th grade no diploma'], \n",
    "            ['39', 'High school graduate - high school diploma or equivalent'], \n",
    "              ['40', 'Some college but no degree'], \n",
    "            ['41', 'Associate degree in college - occupation/vocation'], \n",
    "            ['42', 'Associate degree in college - academic program'], \n",
    "            ['43', \"Bachelor's degree (for example: BA,AB,BS)\"], \n",
    "            ['44', \"Master's degree\"],\n",
    "            ['45', 'Professional school degree'], \n",
    "            ['46', 'Doctorate degree']]\n",
    "#loops through label codes and replaces them in frequency table\n",
    "for lbl in codebook:\n",
    "    freq[col_name] = freq[col_name].replace(int(lbl[0]), lbl[1])\n",
    "\n",
    "#prints updated frequency table\n",
    "print(freq)"
   ]
  },
  {
   "cell_type": "code",
   "execution_count": 6,
   "metadata": {},
   "outputs": [
    {
     "data": {
      "image/png": "[encoded data removed]",
      "text/plain": [
       "<Figure size 432x288 with 1 Axes>"
      ]
     },
     "metadata": {
      "needs_background": "light"
     },
     "output_type": "display_data"
    }
   ],
   "source": [
    "#create frequency chart\n",
    "ax = freq.plot.barh(x=col_name, y='freq', rot=0)"
   ]
  },
  {
   "cell_type": "code",
   "execution_count": null,
   "metadata": {},
   "outputs": [],
   "source": []
  }
 ],
 "metadata": {
  "kernelspec": {
   "display_name": "Python 3",
   "language": "python",
   "name": "python3"
  },
  "language_info": {
   "codemirror_mode": {
    "name": "ipython",
    "version": 3
   },
   "file_extension": ".py",
   "mimetype": "text/x-python",
   "name": "python",
   "nbconvert_exporter": "python",
   "pygments_lexer": "ipython3",
   "version": "3.8.5"
  }
 },
 "nbformat": 4,
 "nbformat_minor": 4
}
