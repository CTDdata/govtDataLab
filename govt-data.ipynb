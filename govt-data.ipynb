{
 "cells": [
  {
   "cell_type": "code",
   "execution_count": null,
   "metadata": {},
   "outputs": [],
   "source": [
    "#UPDATE this cell with your data source + Dictionary/Codebook\n",
    "#data source: https://www.census.gov/data/datasets/time-series/demo/cps/cps-asec.2021.html\n",
    "#data dictionary: https://www2.census.gov/programs-surveys/cps/datasets/2021/march/asec2021_ddl_pub_full.pdf"
   ]
  },
  {
   "cell_type": "code",
   "execution_count": null,
   "metadata": {},
   "outputs": [],
   "source": [
    "#import necessary libaries\n",
    "import pandas as pd\n",
    "import matplotlib"
   ]
  },
  {
   "cell_type": "code",
   "execution_count": null,
   "metadata": {},
   "outputs": [],
   "source": [
    "#name file path (you will have download your own dataset and populate the path and choose the appropriate cell to execute)\n",
    "file = 'asecpub21csv/pppub21.csv' # <-- edit this value! "
   ]
  },
  {
   "cell_type": "code",
   "execution_count": null,
   "metadata": {},
   "outputs": [],
   "source": [
    "#you will run just ONE of the next three code blocks, depending on the file type of your dataset"
   ]
  },
  {
   "cell_type": "code",
   "execution_count": null,
   "metadata": {},
   "outputs": [],
   "source": [
    "#read data from CSV & print head\n",
    "df = pd.read_csv(file)\n",
    "print(df.head())"
   ]
  },
  {
   "cell_type": "code",
   "execution_count": null,
   "metadata": {},
   "outputs": [],
   "source": [
    "#read data from SAS & print head\n",
    "df = pd.read_sas(file)\n",
    "print(df.head())"
   ]
  },
  {
   "cell_type": "code",
   "execution_count": null,
   "metadata": {},
   "outputs": [],
   "source": [
    "#read data from excel & print head\n",
    "df = pd.read_excel(file)\n",
    "print(df.head())"
   ]
  },
  {
   "cell_type": "code",
   "execution_count": null,
   "metadata": {},
   "outputs": [],
   "source": [
    "#list columns in data frame\n",
    "print(list(df))"
   ]
  },
  {
   "cell_type": "code",
   "execution_count": null,
   "metadata": {},
   "outputs": [],
   "source": [
    "#output frequency table of chosen column in dataset\n",
    "col = 'A_HGA' #<-edit this value! column name as it appears in dataframe\n",
    "col_name = 'Educational Attainment' #<-edit this value! descriptive name for column\n",
    "freq = df[col].value_counts().rename_axis(col_name).reset_index(name='freq')\n",
    "freq = freq.sort_values(by = col_name)\n",
    "print(freq)"
   ]
  },
  {
   "cell_type": "code",
   "execution_count": null,
   "metadata": {},
   "outputs": [],
   "source": [
    "#replace codes with descriptive labels\n",
    "#if your dataframe already has descriptive labels, you don't need to run this cell\n",
    "codebook = [['0', 'Children'], #<- if appropriate, replace these values based on codebook or data dictionary for your dataset\n",
    "            ['31', 'Less than 1st grade'], \n",
    "            ['32', '1st,2nd,3rd,or 4th grade'], \n",
    "            ['33', '5th or 6th grade'], \n",
    "            ['34', '7th and 8th grade'], \n",
    "            ['35', '9th grade'], \n",
    "            ['36', '10th grade'], \n",
    "            ['37', '11th grade'], \n",
    "            ['38', '12th grade no diploma'], \n",
    "            ['39', 'High school graduate - high school diploma or equivalent'], \n",
    "              ['40', 'Some college but no degree'], \n",
    "            ['41', 'Associate degree in college - occupation/vocation'], \n",
    "            ['42', 'Associate degree in college - academic program'], \n",
    "            ['43', \"Bachelor's degree (for example: BA,AB,BS)\"], \n",
    "            ['44', \"Master's degree\"],\n",
    "            ['45', 'Professional school degree'], \n",
    "            ['46', 'Doctorate degree']]\n",
    "#loops through label codes and replaces them in frequency table\n",
    "for lbl in codebook:\n",
    "    freq[col_name] = freq[col_name].replace(int(lbl[0]), lbl[1])\n",
    "\n",
    "#prints updated frequency table\n",
    "print(freq)"
   ]
  },
  {
   "cell_type": "code",
   "execution_count": null,
   "metadata": {},
   "outputs": [],
   "source": [
    "#create frequency chart\n",
    "ax = freq.plot.barh(x=col_name, y='freq', rot=0)"
   ]
  }
 ],
 "metadata": {
  "kernelspec": {
   "display_name": "Python 3",
   "language": "python",
   "name": "python3"
  },
  "language_info": {
   "codemirror_mode": {
    "name": "ipython",
    "version": 3
   },
   "file_extension": ".py",
   "mimetype": "text/x-python",
   "name": "python",
   "nbconvert_exporter": "python",
   "pygments_lexer": "ipython3",
   "version": "3.8.5"
  }
 },
 "nbformat": 4,
 "nbformat_minor": 4
}
